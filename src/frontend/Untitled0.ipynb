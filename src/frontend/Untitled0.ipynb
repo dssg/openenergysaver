{
 "metadata": {
  "name": "",
  "signature": "sha256:0699eadbfcb03e7e9900758982068935df014ab6b2f2a06df5f4e51a384b0465"
 },
 "nbformat": 3,
 "nbformat_minor": 0,
 "worksheets": []
}