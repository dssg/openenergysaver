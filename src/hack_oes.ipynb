{
 "metadata": {
  "name": "",
  "signature": "sha256:b92d37f8165874279da4e4e47baeed84a466a0af795fc7eb4814d9c6c3deea5f"
 },
 "nbformat": 3,
 "nbformat_minor": 0,
 "worksheets": [
  {
   "cells": [
    {
     "cell_type": "code",
     "collapsed": false,
     "input": [
      "import pandas as pd\n",
      "from matplotlib import pyplot as plt\n",
      "from matplotlib import cm\n",
      "import datetime\n",
      "import numpy as np\n",
      "import pprint as pp\n",
      "import scipy as sp\n",
      "from collections import defaultdict\n",
      "from datetime import timedelta\n"
     ],
     "language": "python",
     "metadata": {},
     "outputs": [],
     "prompt_number": 2
    },
    {
     "cell_type": "code",
     "collapsed": false,
     "input": [
      "comp = pd.read_csv('cal_complete_temps.csv')\n",
      "norm = pd.read_csv('cal_normals_cz2010.csv') \n",
      "elec = pd.read_csv('cal_elec_data.csv')\n",
      "gas = pd.read_csv('calt_gas_data.csv')\n",
      "\n",
      "merged = pd.read_csv('caltest_prism_run_elec.csv')"
     ],
     "language": "python",
     "metadata": {},
     "outputs": [],
     "prompt_number": 3
    },
    {
     "cell_type": "code",
     "collapsed": false,
     "input": [
      "shape(merged)\n",
      "\n",
      "#generate generic heating and cooling degree days per day for the regression\n",
      "\n",
      "merged['cddpd'] = merged.cdd65pd\n",
      "merged['hddpd'] = merged.hdd60pd\n",
      "\n",
      "merged.columns"
     ],
     "language": "python",
     "metadata": {},
     "outputs": [],
     "prompt_number": 51
    },
    {
     "cell_type": "code",
     "collapsed": false,
     "input": [
      "results = pd.ols(y = merged.upd, x = merged.cdd65pd)\n",
      "results.beta[0], results.beta[1], results.r2_adj\n",
      "results.std_err\n",
      "results.nobs\n",
      "n = len(merged)    \n",
      "pd.DataFrame([[results.beta[0], results.beta[1], results.r2, results.r2_adj,n]], \n",
      "             columns = ['intercept', 'beta1', 'R2', 'R2 adj','num'])\n"
     ],
     "language": "python",
     "metadata": {},
     "outputs": [
      {
       "html": [
        "<div style=\"max-height:1000px;max-width:1500px;overflow:auto;\">\n",
        "<table border=\"1\" class=\"dataframe\">\n",
        "  <thead>\n",
        "    <tr style=\"text-align: right;\">\n",
        "      <th></th>\n",
        "      <th>intercept</th>\n",
        "      <th>beta1</th>\n",
        "      <th>R2</th>\n",
        "      <th>R2 adj</th>\n",
        "      <th>num</th>\n",
        "    </tr>\n",
        "  </thead>\n",
        "  <tbody>\n",
        "    <tr>\n",
        "      <th>0</th>\n",
        "      <td> 0.412269</td>\n",
        "      <td> 20.693763</td>\n",
        "      <td> 0.01786</td>\n",
        "      <td> 0.017563</td>\n",
        "      <td> 3316</td>\n",
        "    </tr>\n",
        "  </tbody>\n",
        "</table>\n",
        "</div>"
       ],
       "metadata": {},
       "output_type": "pyout",
       "prompt_number": 74,
       "text": [
        "   intercept      beta1       R2    R2 adj   num\n",
        "0   0.412269  20.693763  0.01786  0.017563  3316"
       ]
      }
     ],
     "prompt_number": 74
    },
    {
     "cell_type": "code",
     "collapsed": false,
     "input": [
      "def degree_day_regression(df, x_opt='both'):\n",
      "    \n",
      "    '''Function that runs the weather normalization regression on energy use data\n",
      "        --------------\n",
      "        df: dataframe that includes \n",
      "            use per day (upd)\n",
      "            heating degree days per day (hddpd)\n",
      "            cooling degree days per day (cddpd)\n",
      "        ---------------\n",
      "        x_opt: options for the regression function\n",
      "            'hdd': run regression with just heating degree days\n",
      "            'cdd': run regression with just cooling degree days\n",
      "            'both' (default): \n",
      "    '''\n",
      "    \n",
      "    #select model based on options\n",
      "    if x_opt == 'hdd':\n",
      "        covar = {'HDD': df.hddpd}\n",
      "        results = pd.ols(y=df.upd, x = covar)\n",
      "        return pd.DataFrame([[results.beta[1], results.std_err[1], results.beta[0], results.std_err[0], results.r2, results.r2_adj, results.nobs ]], \n",
      "             columns = ['intercept', 'intercept_std_err', 'HDD', 'HDD_std_err',' R2', 'R2_adj','N_reads'])\n",
      "    \n",
      "    elif x_opt == 'cdd':\n",
      "        covar = {'CDD': df.cddpd}\n",
      "        results = pd.ols(y=df.upd, x = covar)\n",
      "        return pd.DataFrame([[results.beta[1], results.std_err[1], results.beta[0], results.std_err[0], results.r2, results.r2_adj, results.nobs]], \n",
      "             columns = ['intercept', 'intercept_std_err', 'CDD', 'CDD_std_err', 'R2', 'R2_adj','N_reads'])\n",
      "\n",
      "    \n",
      "    elif x_opt == 'both':\n",
      "        covar = {'CDD': df.cddpd, 'HDD': df.hddpd}\n",
      "        results = pd.ols(y=df.upd, x = covar)\n",
      "        return pd.DataFrame([[results.beta[2], results.std_err[2], results.beta[0], results.std_err[0], results.beta[1], results.std_err[1], results.r2, results.r2_adj, results.nobs]], \n",
      "             columns = ['intercept', 'intercept_std_err', 'CDD', 'CDD_std_err', 'HDD','HDD_std_err', 'R2', 'R2_adj','N_reads'])\n"
     ],
     "language": "python",
     "metadata": {},
     "outputs": [],
     "prompt_number": 79
    },
    {
     "cell_type": "code",
     "collapsed": false,
     "input": [
      "degree_day_regression(merged, 'hdd')"
     ],
     "language": "python",
     "metadata": {},
     "outputs": [
      {
       "html": [
        "<div style=\"max-height:1000px;max-width:1500px;overflow:auto;\">\n",
        "<table border=\"1\" class=\"dataframe\">\n",
        "  <thead>\n",
        "    <tr style=\"text-align: right;\">\n",
        "      <th></th>\n",
        "      <th>intercept</th>\n",
        "      <th>intercept_std_err</th>\n",
        "      <th>HDD</th>\n",
        "      <th>HDD_std_err</th>\n",
        "      <th> R2</th>\n",
        "      <th>R2_adj</th>\n",
        "      <th>N_reads</th>\n",
        "    </tr>\n",
        "  </thead>\n",
        "  <tbody>\n",
        "    <tr>\n",
        "      <th>0</th>\n",
        "      <td> 22.184838</td>\n",
        "      <td> 0.213419</td>\n",
        "      <td>-0.230112</td>\n",
        "      <td> 0.046468</td>\n",
        "      <td> 0.007368</td>\n",
        "      <td> 0.007067</td>\n",
        "      <td> 3306</td>\n",
        "    </tr>\n",
        "  </tbody>\n",
        "</table>\n",
        "</div>"
       ],
       "metadata": {},
       "output_type": "pyout",
       "prompt_number": 80,
       "text": [
        "   intercept  intercept_std_err       HDD  HDD_std_err        R2    R2_adj  \\\n",
        "0  22.184838           0.213419 -0.230112     0.046468  0.007368  0.007067   \n",
        "\n",
        "   N_reads  \n",
        "0     3306  "
       ]
      }
     ],
     "prompt_number": 80
    },
    {
     "cell_type": "code",
     "collapsed": false,
     "input": [
      "results.beta"
     ],
     "language": "python",
     "metadata": {},
     "outputs": [
      {
       "metadata": {},
       "output_type": "pyout",
       "prompt_number": 58,
       "text": [
        "x             0.412269\n",
        "intercept    20.693763\n",
        "dtype: float64"
       ]
      }
     ],
     "prompt_number": 58
    },
    {
     "cell_type": "code",
     "collapsed": false,
     "input": [],
     "language": "python",
     "metadata": {},
     "outputs": []
    }
   ],
   "metadata": {}
  }
 ]
}